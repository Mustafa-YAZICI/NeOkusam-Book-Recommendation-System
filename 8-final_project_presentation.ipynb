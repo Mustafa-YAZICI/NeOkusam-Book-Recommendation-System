{
 "cells": [
  {
   "cell_type": "code",
   "execution_count": null,
   "id": "6fd145f0",
   "metadata": {},
   "outputs": [],
   "source": [
    "# NeOkusam Kitap Tavsiye Sistemi - DSMLBC9-Final Projesi Hazırlayanlar\n",
    "**Mustafa YAZICI** ------------- https://www.linkedin.com/in/mustafa-yazici-6378071a5/\n",
    "\n",
    "**Melis Ozgiller Orhun** --------https://www.linkedin.com/in/melis-ozgiller-orhun-3073041/\n",
    "\n",
    "**Mustafa Gürkan ÇANAKÇI** ----- https://www.linkedin.com/in/mgurkanc/\n",
    "\n",
    "**Öznur Karagöz** -------------- https://www.linkedin.com/in/oznurkaragoz/\n",
    "\n",
    "**Ahmet Kaan YILMAZ** ---------  https://www.linkedin.com/in/ahmet-kaan-yilmaz-25405b145/"
   ]
  },
  {
   "cell_type": "markdown",
   "id": "9f4cb06c",
   "metadata": {},
   "source": [
    "# NeOkusam Kitap Tavsiye Sistemi \n",
    "\n",
    "\n",
    "### DSMLBC9-Final Projesi aşağıdaki aşamalardan/notebook'lardan oluşmaktadır.\n",
    "\n",
    "1.Data Cleaning - Prearation- Feature Engineering----https://www.kaggle.com/code/mustafayazici/data-cleaning-prearation-feature-engineering\n",
    "\n",
    "2.Data Visualization---https://www.kaggle.com/code/mustafayazici/data-visualization\n",
    "\n",
    "3.Content Based Recommendation---https://www.kaggle.com/code/mustafayazici/content-based-recommendation\n",
    "    \n",
    "4.User Based Recommendation System---https://www.kaggle.com/code/mustafayazici/user-based-recommendation-system\n",
    "\n",
    "5.Matrix Factorization-Model-Based Collaborative Filtering---https://www.kaggle.com/code/mustafayazici/matrix-factorization-model-based-collaborative-f\n",
    "\n",
    "6.Association Rule Learning Recommendation System---https://www.kaggle.com/code/mustafayazici/association-rule-learning-recommendation-system\n",
    "\n",
    "7.Makine Öğrenmesi Modeli | PCA & Clustering---https://www.kaggle.com/code/mustafayazici/makine-ogrenmesi-modeli-pca-clustering\n",
    "\n",
    "\n",
    "\n",
    "# NeOkusam Kitap Tavsiye Sistemi - DSMLBC9-Final Projesi Hazırlayanlar\n",
    "**Mustafa YAZICI** ------------- https://www.linkedin.com/in/mustafa-yazici-6378071a5/\n",
    "\n",
    "**Melis Ozgiller Orhun** --------https://www.linkedin.com/in/melis-ozgiller-orhun-3073041/\n",
    "\n",
    "**Mustafa Gürkan ÇANAKÇI** ----- https://www.linkedin.com/in/mgurkanc/\n",
    "\n",
    "**Öznur Karagöz** -------------- https://www.linkedin.com/in/oznurkaragoz/\n",
    "\n",
    "**Ahmet Kaan YILMAZ** ---------  https://www.linkedin.com/in/ahmet-kaan-yilmaz-25405b145/\n",
    "\n",
    "\n",
    "\n",
    "# Bakmak isteyebileceğiniz diğer çalışmalarım\n",
    "https://www.kaggle.com/code/mustafayazici/house-price-eda-ml-visualization\n",
    "\n",
    ">Bu çalışmayı faydalı bulduysanız **lütfen beğenmeyi unutmayınız.** Beğeniniz bu tarz çalışmalar yapmak için beni daha çok motive edecektir."
   ]
  },
  {
   "cell_type": "code",
   "execution_count": null,
   "id": "6ba1f27d",
   "metadata": {},
   "outputs": [],
   "source": [
    "#### you found this notebook helpful or you just liked it , some upvotes would be very much appreciated - That will keep me motivated :)\n"
   ]
  },
  {
   "cell_type": "markdown",
   "id": "c9651481",
   "metadata": {},
   "source": [
    "\n",
    "# NeOkusam Kitap Tavsiye Sistemi \n",
    "\n",
    "\n",
    "### DSMLBC9-Final Projesi aşağıdaki aşamalardan/notebook'lardan oluşmaktadır.\n",
    "\n",
    "1.Data Cleaning - Prearation- Feature Engineering\n",
    ">https://www.kaggle.com/code/mustafayazici/data-cleaning-prearation-feature-engineering\n",
    "\n",
    "2.Data Visualization\n",
    ">https://www.kaggle.com/code/mustafayazici/data-visualization\n",
    "\n",
    "3.Content Based Recommendation\n",
    ">https://www.kaggle.com/code/mustafayazici/content-based-recommendation\n",
    "    \n",
    "4.User Based Recommendation System\n",
    ">https://www.kaggle.com/code/mustafayazici/user-based-recommendation-system\n",
    "\n",
    "5.Matrix Factorization-Model-Based Collaborative Filtering\n",
    ">https://www.kaggle.com/code/mustafayazici/matrix-factorization-model-based-collaborative-f\n",
    "\n",
    "6.Association Rule Learning Recommendation System\n",
    ">https://www.kaggle.com/code/mustafayazici/association-rule-learning-recommendation-system\n",
    "\n",
    "7.Makine Öğrenmesi Modeli | PCA & Clustering\n",
    ">https://www.kaggle.com/code/mustafayazici/makine-ogrenmesi-modeli-pca-clustering\n",
    "\n",
    "\n",
    "\n",
    "# NeOkusam Kitap Tavsiye Sistemi - DSMLBC9-Final Projesi Hazırlayanlar\n",
    "**Mustafa YAZICI** ------------- https://www.linkedin.com/in/mustafa-yazici-6378071a5/\n",
    "\n",
    "**Melis Ozgiller Orhun** --------https://www.linkedin.com/in/melis-ozgiller-orhun-3073041/\n",
    "\n",
    "**Mustafa Gürkan ÇANAKÇI** ----- https://www.linkedin.com/in/mgurkanc/\n",
    "\n",
    "**Öznur Karagöz** -------------- https://www.linkedin.com/in/oznurkaragoz/\n",
    "\n",
    "**Ahmet Kaan YILMAZ** ---------  https://www.linkedin.com/in/ahmet-kaan-yilmaz-25405b145/\n",
    "\n",
    "\n",
    "\n",
    "# Bakmak isteyebileceğiniz diğer çalışmalarım\n",
    "https://www.kaggle.com/code/mustafayazici/house-price-eda-ml-visualization\n",
    "\n",
    ">Bu çalışmayı faydalı bulduysanız **lütfen beğenmeyi unutmayınız.** Beğeniniz bu tarz çalışmalar yapmak için beni daha çok motive edecektir."
   ]
  },
  {
   "cell_type": "code",
   "execution_count": null,
   "id": "8e94e686",
   "metadata": {},
   "outputs": [],
   "source": []
  },
  {
   "cell_type": "code",
   "execution_count": null,
   "id": "561fb7b2",
   "metadata": {},
   "outputs": [],
   "source": []
  },
  {
   "cell_type": "code",
   "execution_count": null,
   "id": "0d22cc46",
   "metadata": {},
   "outputs": [],
   "source": []
  },
  {
   "cell_type": "code",
   "execution_count": null,
   "id": "319644ce",
   "metadata": {},
   "outputs": [],
   "source": []
  },
  {
   "cell_type": "code",
   "execution_count": null,
   "id": "e20248ff",
   "metadata": {},
   "outputs": [],
   "source": []
  },
  {
   "cell_type": "code",
   "execution_count": null,
   "id": "eb4cd925",
   "metadata": {},
   "outputs": [],
   "source": []
  },
  {
   "cell_type": "code",
   "execution_count": null,
   "id": "5b1a020e",
   "metadata": {},
   "outputs": [],
   "source": []
  },
  {
   "cell_type": "code",
   "execution_count": null,
   "id": "0894a3ff",
   "metadata": {},
   "outputs": [],
   "source": []
  },
  {
   "cell_type": "code",
   "execution_count": null,
   "id": "859eef83",
   "metadata": {},
   "outputs": [],
   "source": []
  }
 ],
 "metadata": {
  "kernelspec": {
   "display_name": "Python 3 (ipykernel)",
   "language": "python",
   "name": "python3"
  },
  "language_info": {
   "codemirror_mode": {
    "name": "ipython",
    "version": 3
   },
   "file_extension": ".py",
   "mimetype": "text/x-python",
   "name": "python",
   "nbconvert_exporter": "python",
   "pygments_lexer": "ipython3",
   "version": "3.9.12"
  }
 },
 "nbformat": 4,
 "nbformat_minor": 5
}
